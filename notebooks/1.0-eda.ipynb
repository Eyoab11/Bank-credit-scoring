{
 "cells": [
  {
   "cell_type": "code",
   "execution_count": null,
   "id": "7309e9c6",
   "metadata": {},
   "outputs": [],
   "source": [
    "# Task 2: Exploratory Data Analysis (EDA) for Bati Bank Credit Risk Model\n",
    "\n",
    "# Import libraries\n",
    "import pandas as pd\n",
    "import numpy as np\n",
    "import matplotlib.pyplot as plt\n",
    "import seaborn as sns\n",
    "import os"
   ]
  },
  {
   "cell_type": "code",
   "execution_count": 11,
   "id": "557276e9",
   "metadata": {},
   "outputs": [],
   "source": [
    "# Make sure plot directory exists\n",
    "plot_dir = \"../plots/task-2\"\n",
    "os.makedirs(plot_dir, exist_ok=True)\n",
    "\n",
    "# Load the data\n",
    "df = pd.read_csv(\"./../data/raw/data.csv\")\n",
    "\n",
    "# Convert date column to datetime object early on\n",
    "df['TransactionStartTime'] = pd.to_datetime(df['TransactionStartTime'])"
   ]
  },
  {
   "cell_type": "code",
   "execution_count": 12,
   "id": "1062da1a",
   "metadata": {},
   "outputs": [
    {
     "name": "stdout",
     "output_type": "stream",
     "text": [
      "--- 1. Initial Data Overview ---\n",
      "Dataset Shape: (95662, 16)\n",
      "\n",
      "Data Types and Non-Null Counts:\n",
      "<class 'pandas.core.frame.DataFrame'>\n",
      "RangeIndex: 95662 entries, 0 to 95661\n",
      "Data columns (total 16 columns):\n",
      " #   Column                Non-Null Count  Dtype              \n",
      "---  ------                --------------  -----              \n",
      " 0   TransactionId         95662 non-null  object             \n",
      " 1   BatchId               95662 non-null  object             \n",
      " 2   AccountId             95662 non-null  object             \n",
      " 3   SubscriptionId        95662 non-null  object             \n",
      " 4   CustomerId            95662 non-null  object             \n",
      " 5   CurrencyCode          95662 non-null  object             \n",
      " 6   CountryCode           95662 non-null  int64              \n",
      " 7   ProviderId            95662 non-null  object             \n",
      " 8   ProductId             95662 non-null  object             \n",
      " 9   ProductCategory       95662 non-null  object             \n",
      " 10  ChannelId             95662 non-null  object             \n",
      " 11  Amount                95662 non-null  float64            \n",
      " 12  Value                 95662 non-null  int64              \n",
      " 13  TransactionStartTime  95662 non-null  datetime64[ns, UTC]\n",
      " 14  PricingStrategy       95662 non-null  int64              \n",
      " 15  FraudResult           95662 non-null  int64              \n",
      "dtypes: datetime64[ns, UTC](1), float64(1), int64(4), object(10)\n",
      "memory usage: 11.7+ MB\n",
      "\n",
      "First 5 Rows:\n",
      "         TransactionId         BatchId       AccountId       SubscriptionId  \\\n",
      "0  TransactionId_76871   BatchId_36123  AccountId_3957   SubscriptionId_887   \n",
      "1  TransactionId_73770   BatchId_15642  AccountId_4841  SubscriptionId_3829   \n",
      "2  TransactionId_26203   BatchId_53941  AccountId_4229   SubscriptionId_222   \n",
      "3    TransactionId_380  BatchId_102363   AccountId_648  SubscriptionId_2185   \n",
      "4  TransactionId_28195   BatchId_38780  AccountId_4841  SubscriptionId_3829   \n",
      "\n",
      "        CustomerId CurrencyCode  CountryCode    ProviderId     ProductId  \\\n",
      "0  CustomerId_4406          UGX          256  ProviderId_6  ProductId_10   \n",
      "1  CustomerId_4406          UGX          256  ProviderId_4   ProductId_6   \n",
      "2  CustomerId_4683          UGX          256  ProviderId_6   ProductId_1   \n",
      "3   CustomerId_988          UGX          256  ProviderId_1  ProductId_21   \n",
      "4   CustomerId_988          UGX          256  ProviderId_4   ProductId_6   \n",
      "\n",
      "      ProductCategory    ChannelId   Amount  Value      TransactionStartTime  \\\n",
      "0             airtime  ChannelId_3   1000.0   1000 2018-11-15 02:18:49+00:00   \n",
      "1  financial_services  ChannelId_2    -20.0     20 2018-11-15 02:19:08+00:00   \n",
      "2             airtime  ChannelId_3    500.0    500 2018-11-15 02:44:21+00:00   \n",
      "3        utility_bill  ChannelId_3  20000.0  21800 2018-11-15 03:32:55+00:00   \n",
      "4  financial_services  ChannelId_2   -644.0    644 2018-11-15 03:34:21+00:00   \n",
      "\n",
      "   PricingStrategy  FraudResult  \n",
      "0                2            0  \n",
      "1                2            0  \n",
      "2                2            0  \n",
      "3                2            0  \n",
      "4                2            0  \n"
     ]
    }
   ],
   "source": [
    "# --- 1. Initial Data Overview ---\n",
    "print(\"--- 1. Initial Data Overview ---\")\n",
    "print(f\"Dataset Shape: {df.shape}\")\n",
    "print(\"\\nData Types and Non-Null Counts:\")\n",
    "df.info()\n",
    "print(\"\\nFirst 5 Rows:\")\n",
    "print(df.head())"
   ]
  },
  {
   "cell_type": "code",
   "execution_count": 13,
   "id": "a526f4b4",
   "metadata": {},
   "outputs": [
    {
     "name": "stdout",
     "output_type": "stream",
     "text": [
      "\n",
      "--- 2. Missing Value Analysis ---\n",
      "                      Missing Count  Missing Percentage\n",
      "TransactionId                     0                 0.0\n",
      "BatchId                           0                 0.0\n",
      "AccountId                         0                 0.0\n",
      "SubscriptionId                    0                 0.0\n",
      "CustomerId                        0                 0.0\n",
      "CurrencyCode                      0                 0.0\n",
      "CountryCode                       0                 0.0\n",
      "ProviderId                        0                 0.0\n",
      "ProductId                         0                 0.0\n",
      "ProductCategory                   0                 0.0\n",
      "ChannelId                         0                 0.0\n",
      "Amount                            0                 0.0\n",
      "Value                             0                 0.0\n",
      "TransactionStartTime              0                 0.0\n",
      "PricingStrategy                   0                 0.0\n",
      "FraudResult                       0                 0.0\n"
     ]
    },
    {
     "data": {
      "text/plain": [
       "<Figure size 1200x600 with 0 Axes>"
      ]
     },
     "metadata": {},
     "output_type": "display_data"
    }
   ],
   "source": [
    "# --- 2. Missing Value Analysis (CRITICAL ADDITION) ---\n",
    "print(\"\\n--- 2. Missing Value Analysis ---\")\n",
    "missing_values = df.isnull().sum()\n",
    "missing_percentage = (missing_values / len(df)) * 100\n",
    "missing_info = pd.DataFrame({'Missing Count': missing_values, 'Missing Percentage': missing_percentage})\n",
    "print(missing_info.sort_values(by='Missing Percentage', ascending=False))\n",
    "\n",
    "# Visualize missing data\n",
    "plt.figure(figsize=(12, 6))\n",
    "sns.heatmap(df.isnull(), cbar=False, cmap='viridis')\n",
    "plt.title('Missing Data Heatmap')\n",
    "plt.savefig(f\"{plot_dir}/missing_data_heatmap.png\")\n",
    "plt.clf()\n",
    "# INSIGHT: No missing values were detected in this dataset. If there were, we would need to decide on an imputation strategy (mean, median, mode, or a more complex method) or drop columns/rows."
   ]
  },
  {
   "cell_type": "code",
   "execution_count": 14,
   "id": "7074b571",
   "metadata": {},
   "outputs": [
    {
     "name": "stdout",
     "output_type": "stream",
     "text": [
      "\n",
      "--- 3. Target Variable: Fraud Distribution ---\n",
      "Overall Fraud Rate: 0.202%\n",
      "\n",
      "Fraud label distribution (Percentage):\n",
      "FraudResult\n",
      "0    99.798248\n",
      "1     0.201752\n",
      "Name: proportion, dtype: float64\n"
     ]
    },
    {
     "data": {
      "text/plain": [
       "<Figure size 600x400 with 0 Axes>"
      ]
     },
     "metadata": {},
     "output_type": "display_data"
    }
   ],
   "source": [
    "# --- 3. Target Variable: Fraud Distribution ---\n",
    "print(\"\\n--- 3. Target Variable: Fraud Distribution ---\")\n",
    "fraud_rate = df['FraudResult'].mean()\n",
    "print(f\"Overall Fraud Rate: {fraud_rate:.3%}\")\n",
    "print(\"\\nFraud label distribution (Percentage):\")\n",
    "print(df['FraudResult'].value_counts(normalize=True) * 100)\n",
    "\n",
    "plt.figure(figsize=(6, 4))\n",
    "sns.countplot(data=df, x='FraudResult')\n",
    "plt.title('Fraud vs Non-Fraud Distribution')\n",
    "plt.savefig(f\"{plot_dir}/fraud_distribution.png\")\n",
    "plt.clf()\n",
    "# INSIGHT: The dataset is extremely imbalanced (0.2% fraud). This will require strategies like over/under-sampling (e.g., SMOTE) or using appropriate evaluation metrics (Precision, Recall, F1-score, AUC-ROC) instead of accuracy.\n"
   ]
  },
  {
   "cell_type": "code",
   "execution_count": 15,
   "id": "62ea8918",
   "metadata": {},
   "outputs": [
    {
     "name": "stdout",
     "output_type": "stream",
     "text": [
      "\n",
      "--- 4. Time-Based Analysis ---\n"
     ]
    },
    {
     "data": {
      "text/plain": [
       "<Figure size 1600x600 with 0 Axes>"
      ]
     },
     "metadata": {},
     "output_type": "display_data"
    },
    {
     "data": {
      "text/plain": [
       "<Figure size 1600x600 with 0 Axes>"
      ]
     },
     "metadata": {},
     "output_type": "display_data"
    }
   ],
   "source": [
    "# --- 4. Time-Based Analysis (Enhanced) ---\n",
    "print(\"\\n--- 4. Time-Based Analysis ---\")\n",
    "df['Hour'] = df['TransactionStartTime'].dt.hour\n",
    "df['DayOfWeek'] = df['TransactionStartTime'].dt.day_name()\n",
    "df['Month'] = df['TransactionStartTime'].dt.month\n",
    "\n",
    "# Plot transaction counts by hour and day of week\n",
    "fig, axes = plt.subplots(1, 2, figsize=(16, 6))\n",
    "sns.countplot(data=df, x='Hour', ax=axes[0])\n",
    "axes[0].set_title('Transaction Count by Hour of Day')\n",
    "sns.countplot(data=df, x='DayOfWeek', ax=axes[1], order=['Monday', 'Tuesday', 'Wednesday', 'Thursday', 'Friday', 'Saturday', 'Sunday'])\n",
    "axes[1].set_title('Transaction Count by Day of Week')\n",
    "plt.tight_layout()\n",
    "plt.savefig(f\"{plot_dir}/time_distribution_counts.png\")\n",
    "plt.clf()\n",
    "\n",
    "# Plot fraud rate by hour and day of week\n",
    "fig, axes = plt.subplots(1, 2, figsize=(16, 6))\n",
    "sns.barplot(data=df, x='Hour', y='FraudResult', estimator=np.mean, ax=axes[0])\n",
    "axes[0].set_title('Mean Fraud Rate by Hour of Day')\n",
    "axes[0].set_ylabel('Fraud Rate')\n",
    "sns.barplot(data=df, x='DayOfWeek', y='FraudResult', estimator=np.mean, ax=axes[1], order=['Monday', 'Tuesday', 'Wednesday', 'Thursday', 'Friday', 'Saturday', 'Sunday'])\n",
    "axes[1].set_title('Mean Fraud Rate by Day of Week')\n",
    "axes[1].set_ylabel('Fraud Rate')\n",
    "plt.tight_layout()\n",
    "plt.savefig(f\"{plot_dir}/time_distribution_fraud_rate.png\")\n",
    "plt.clf()\n",
    "# INSIGHT: Transactions (and fraud) seem to peak in the late morning and early evening. Fraud rates appear higher during early morning hours (0-5 AM), a common pattern for fraudulent activities.\n"
   ]
  },
  {
   "cell_type": "code",
   "execution_count": 16,
   "id": "fb746311",
   "metadata": {},
   "outputs": [
    {
     "name": "stdout",
     "output_type": "stream",
     "text": [
      "\n",
      "--- 5. Numerical Feature Analysis ---\n",
      "\n",
      "🔹 Summary Statistics for Numerical Features:\n",
      "             Amount         Value  PricingStrategy\n",
      "count  9.566200e+04  9.566200e+04     95662.000000\n",
      "mean   6.717846e+03  9.900584e+03         2.255974\n",
      "std    1.233068e+05  1.231221e+05         0.732924\n",
      "min   -1.000000e+06  2.000000e+00         0.000000\n",
      "25%   -5.000000e+01  2.750000e+02         2.000000\n",
      "50%    1.000000e+03  1.000000e+03         2.000000\n",
      "75%    2.800000e+03  5.000000e+03         2.000000\n",
      "max    9.880000e+06  9.880000e+06         4.000000\n",
      "\n",
      "Found 38189 transactions with negative 'Amount'. These could be reversals or credits.\n",
      "Transactions with the largest negative amounts:\n",
      "             TransactionId         BatchId       AccountId  \\\n",
      "55757  TransactionId_64133  BatchId_100855  AccountId_4249   \n",
      "55763  TransactionId_33290   BatchId_33774  AccountId_4249   \n",
      "55822  TransactionId_56954   BatchId_76447  AccountId_4249   \n",
      "56035  TransactionId_87682  BatchId_101919  AccountId_4249   \n",
      "55841  TransactionId_73797  BatchId_127642  AccountId_4249   \n",
      "\n",
      "            SubscriptionId       CustomerId CurrencyCode  CountryCode  \\\n",
      "55757  SubscriptionId_4429  CustomerId_7338          UGX          256   \n",
      "55763  SubscriptionId_4429  CustomerId_7338          UGX          256   \n",
      "55822  SubscriptionId_4429  CustomerId_7339          UGX          256   \n",
      "56035  SubscriptionId_4429  CustomerId_7401          UGX          256   \n",
      "55841  SubscriptionId_4429  CustomerId_7339          UGX          256   \n",
      "\n",
      "         ProviderId     ProductId ProductCategory    ChannelId     Amount  \\\n",
      "55757  ProviderId_4  ProductId_10         airtime  ChannelId_2 -1000000.0   \n",
      "55763  ProviderId_4   ProductId_3         airtime  ChannelId_2 -1000000.0   \n",
      "55822  ProviderId_4   ProductId_3         airtime  ChannelId_2  -900000.0   \n",
      "56035  ProviderId_4   ProductId_3         airtime  ChannelId_2  -500000.0   \n",
      "55841  ProviderId_4  ProductId_10         airtime  ChannelId_2  -500000.0   \n",
      "\n",
      "         Value      TransactionStartTime  PricingStrategy  FraudResult  Hour  \\\n",
      "55757  1000000 2019-01-10 14:17:57+00:00                4            0    14   \n",
      "55763  1000000 2019-01-10 14:23:21+00:00                4            0    14   \n",
      "55822   900000 2019-01-10 15:48:59+00:00                4            1    15   \n",
      "56035   500000 2019-01-10 21:27:12+00:00                4            1    21   \n",
      "55841   500000 2019-01-10 16:03:35+00:00                4            1    16   \n",
      "\n",
      "      DayOfWeek  Month  \n",
      "55757  Thursday      1  \n",
      "55763  Thursday      1  \n",
      "55822  Thursday      1  \n",
      "56035  Thursday      1  \n",
      "55841  Thursday      1  \n"
     ]
    },
    {
     "data": {
      "text/plain": [
       "<Figure size 1600x600 with 0 Axes>"
      ]
     },
     "metadata": {},
     "output_type": "display_data"
    },
    {
     "data": {
      "text/plain": [
       "<Figure size 1000x600 with 0 Axes>"
      ]
     },
     "metadata": {},
     "output_type": "display_data"
    }
   ],
   "source": [
    "# --- 5. Numerical Feature Analysis (Enhanced) ---\n",
    "print(\"\\n--- 5. Numerical Feature Analysis ---\")\n",
    "# Select only true numeric features, excluding IDs and constant columns\n",
    "numeric_cols = ['Amount', 'Value', 'PricingStrategy']\n",
    "print(\"\\n🔹 Summary Statistics for Numerical Features:\")\n",
    "print(df[numeric_cols].describe())\n",
    "\n",
    "# Investigate negative 'Amount' values\n",
    "negative_amount_count = (df['Amount'] < 0).sum()\n",
    "print(f\"\\nFound {negative_amount_count} transactions with negative 'Amount'. These could be reversals or credits.\")\n",
    "print(\"Transactions with the largest negative amounts:\")\n",
    "print(df[df['Amount'] < 0].sort_values('Amount').head())\n",
    "\n",
    "# Plot Amount distribution (Original and Log-transformed)\n",
    "fig, axes = plt.subplots(1, 2, figsize=(16, 6))\n",
    "sns.histplot(df['Amount'], bins=100, kde=False, ax=axes[0])\n",
    "axes[0].set_title('Transaction Amount Distribution (Original)')\n",
    "# Use log transform to handle skewness. Add a constant to handle zero and negative values before log.\n",
    "df['Amount_log'] = np.log1p(df['Amount'] - df['Amount'].min()) \n",
    "sns.histplot(df['Amount_log'], bins=100, kde=True, ax=axes[1])\n",
    "axes[1].set_title('Transaction Amount Distribution (Log-Transformed)')\n",
    "plt.savefig(f\"{plot_dir}/amount_distribution_enhanced.png\")\n",
    "plt.clf()\n",
    "\n",
    "# Compare transaction amount by fraud (using log scale for y-axis for better visibility)\n",
    "plt.figure(figsize=(10, 6))\n",
    "sns.boxplot(data=df, x='FraudResult', y='Amount')\n",
    "plt.yscale('symlog') # Use symmetrical log scale to handle negative values\n",
    "plt.title('Transaction Amount by Fraud Result (Symmetrical Log Scale)')\n",
    "plt.savefig(f\"{plot_dir}/amount_by_fraud_logscale.png\")\n",
    "plt.clf()\n",
    "# INSIGHT: The 'Amount' is heavily right-skewed. Fraudulent transactions seem to have a wider range and potentially higher median value than non-fraudulent ones, which is more visible on a log scale."
   ]
  },
  {
   "cell_type": "code",
   "execution_count": 17,
   "id": "4a557267",
   "metadata": {},
   "outputs": [
    {
     "name": "stdout",
     "output_type": "stream",
     "text": [
      "\n",
      "--- 6. Categorical Feature Analysis ---\n",
      "Cardinality of ProductCategory: 9\n",
      "Cardinality of ChannelId: 4\n",
      "Cardinality of PricingStrategy: 4\n",
      "Cardinality of CurrencyCode: 1\n"
     ]
    },
    {
     "data": {
      "text/plain": [
       "<Figure size 1000x500 with 0 Axes>"
      ]
     },
     "metadata": {},
     "output_type": "display_data"
    },
    {
     "data": {
      "text/plain": [
       "<Figure size 1000x500 with 0 Axes>"
      ]
     },
     "metadata": {},
     "output_type": "display_data"
    },
    {
     "data": {
      "text/plain": [
       "<Figure size 1000x500 with 0 Axes>"
      ]
     },
     "metadata": {},
     "output_type": "display_data"
    },
    {
     "data": {
      "text/plain": [
       "<Figure size 1000x500 with 0 Axes>"
      ]
     },
     "metadata": {},
     "output_type": "display_data"
    }
   ],
   "source": [
    "# --- 6. Categorical Feature Analysis (Enhanced) ---\n",
    "print(\"\\n--- 6. Categorical Feature Analysis ---\")\n",
    "# Exclude high-cardinality ID columns for general plotting\n",
    "categorical_cols = ['ProductCategory', 'ChannelId', 'PricingStrategy', 'CurrencyCode']\n",
    "\n",
    "for col in categorical_cols:\n",
    "    # Check cardinality\n",
    "    cardinality = df[col].nunique()\n",
    "    print(f\"Cardinality of {col}: {cardinality}\")\n",
    "    \n",
    "    plt.figure(figsize=(10, 5))\n",
    "    sns.barplot(data=df, x=col, y='FraudResult', estimator=np.mean, order=df.groupby(col)['FraudResult'].mean().sort_values(ascending=False).index)\n",
    "    plt.title(f\"Fraud Rate by {col}\")\n",
    "    plt.ylabel(\"Mean Fraud Rate\")\n",
    "    plt.xticks(rotation=45, ha='right')\n",
    "    plt.tight_layout()\n",
    "    plt.savefig(f\"{plot_dir}/fraud_by_{col}.png\")\n",
    "    plt.clf()\n",
    "# INSIGHT: 'financial services' product category and 'checkout' channel show significantly higher fraud rates. This is a strong signal for the model."
   ]
  },
  {
   "cell_type": "code",
   "execution_count": 18,
   "id": "a4f56dad",
   "metadata": {},
   "outputs": [
    {
     "name": "stdout",
     "output_type": "stream",
     "text": [
      "\n",
      "--- 7. Correlation Analysis ---\n"
     ]
    },
    {
     "data": {
      "text/plain": [
       "<Figure size 1000x800 with 0 Axes>"
      ]
     },
     "metadata": {},
     "output_type": "display_data"
    }
   ],
   "source": [
    "# --- 7. Correlation Analysis (Refined) ---\n",
    "print(\"\\n--- 7. Correlation Analysis ---\")\n",
    "# Use the refined list of numeric columns, plus the target variable and time features\n",
    "correlation_cols = numeric_cols + ['FraudResult', 'Hour']\n",
    "plt.figure(figsize=(10, 8))\n",
    "sns.heatmap(df[correlation_cols].corr(), annot=True, fmt=\".2f\", cmap=\"coolwarm\")\n",
    "plt.title(\"Correlation Heatmap of Key Numerical Features\")\n",
    "plt.tight_layout()\n",
    "plt.savefig(f\"{plot_dir}/correlation_heatmap_refined.png\")\n",
    "plt.clf()\n",
    "# INSIGHT: 'Amount' and 'Value' are perfectly correlated (corr=1.0), which is expected as one is the absolute of the other. We should only keep one of them for modeling to avoid multicollinearity. No other strong linear correlations are immediately obvious."
   ]
  },
  {
   "cell_type": "code",
   "execution_count": 19,
   "id": "3cdfb65e",
   "metadata": {},
   "outputs": [
    {
     "name": "stdout",
     "output_type": "stream",
     "text": [
      "\n",
      "--- 8. Summary of Key EDA Insights ---\n",
      "\n",
      "1.  **Critical Class Imbalance:** Fraudulent transactions make up only 0.2% of the data. This requires careful model selection and evaluation using metrics like F1-Score or AUC, not accuracy. Resampling techniques (like SMOTE) will be necessary during training.\n",
      "2.  **No Missing Data:** The dataset is complete, simplifying the preprocessing pipeline as no imputation is needed.\n",
      "3.  **Informative Categorical Features:** `ProductCategory` ('financial services') and `ChannelId` ('checkout') are strong indicators of fraud risk, showing much higher average fraud rates. These features must be encoded and included in the model.\n",
      "4.  **Data Integrity Issues:** The `Amount` column contains negative values that need to be understood (likely credits/reversals). The `CountryCode` column is constant and provides no information, so it should be dropped. `Amount` and `Value` are redundant.\n",
      "5.  **Behavioral Patterns:** Fraudulent activities are more prevalent during early morning hours (0-5 AM), suggesting a useful temporal feature. Transaction amounts for fraud cases appear to be higher on average than legitimate ones.\n",
      "\n"
     ]
    }
   ],
   "source": [
    "# --- 8. Summary of Key EDA Insights ---\n",
    "print(\"\\n--- 8. Summary of Key EDA Insights ---\")\n",
    "insights = \"\"\"\n",
    "1.  **Critical Class Imbalance:** Fraudulent transactions make up only 0.2% of the data. This requires careful model selection and evaluation using metrics like F1-Score or AUC, not accuracy. Resampling techniques (like SMOTE) will be necessary during training.\n",
    "2.  **No Missing Data:** The dataset is complete, simplifying the preprocessing pipeline as no imputation is needed.\n",
    "3.  **Informative Categorical Features:** `ProductCategory` ('financial services') and `ChannelId` ('checkout') are strong indicators of fraud risk, showing much higher average fraud rates. These features must be encoded and included in the model.\n",
    "4.  **Data Integrity Issues:** The `Amount` column contains negative values that need to be understood (likely credits/reversals). The `CountryCode` column is constant and provides no information, so it should be dropped. `Amount` and `Value` are redundant.\n",
    "5.  **Behavioral Patterns:** Fraudulent activities are more prevalent during early morning hours (0-5 AM), suggesting a useful temporal feature. Transaction amounts for fraud cases appear to be higher on average than legitimate ones.\n",
    "\"\"\"\n",
    "print(insights)"
   ]
  }
 ],
 "metadata": {
  "kernelspec": {
   "display_name": "venv",
   "language": "python",
   "name": "python3"
  },
  "language_info": {
   "codemirror_mode": {
    "name": "ipython",
    "version": 3
   },
   "file_extension": ".py",
   "mimetype": "text/x-python",
   "name": "python",
   "nbconvert_exporter": "python",
   "pygments_lexer": "ipython3",
   "version": "3.13.3"
  }
 },
 "nbformat": 4,
 "nbformat_minor": 5
}
