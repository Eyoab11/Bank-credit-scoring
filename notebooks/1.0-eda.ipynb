{
 "cells": [
  {
   "cell_type": "code",
   "execution_count": null,
   "id": "7309e9c6",
   "metadata": {},
   "outputs": [],
   "source": [
    "# Task 2: Exploratory Data Analysis (EDA) for Bati Bank Credit Risk Model\n",
    "\n",
    "# Import libraries\n",
    "import pandas as pd\n",
    "import numpy as np\n",
    "import matplotlib.pyplot as plt\n",
    "import seaborn as sns\n",
    "import os"
   ]
  },
  {
   "cell_type": "code",
   "execution_count": null,
   "id": "557276e9",
   "metadata": {},
   "outputs": [
    {
     "name": "stdout",
     "output_type": "stream",
     "text": [
      "\n",
      "🔹 Fraud label distribution:\n",
      "FraudResult\n",
      "0    99.798248\n",
      "1     0.201752\n",
      "Name: proportion, dtype: float64\n"
     ]
    },
    {
     "data": {
      "text/plain": [
       "<Figure size 640x480 with 0 Axes>"
      ]
     },
     "metadata": {},
     "output_type": "display_data"
    }
   ],
   "source": [
    "# Make sure plot directory exists\n",
    "plot_dir = \"../plots/task-2\"\n",
    "os.makedirs(plot_dir, exist_ok=True)\n",
    "\n",
    "# Load the data\n",
    "df = pd.read_csv(\"./../data/raw/data.csv\")\n",
    "\n",
    "# Fraud label distribution\n",
    "print(\"\\n Fraud label distribution:\")\n",
    "print(df['FraudResult'].value_counts(normalize=True) * 100)\n",
    "\n",
    "sns.countplot(data=df, x='FraudResult')\n",
    "plt.title('Fraud vs Non-Fraud Distribution')\n",
    "plt.savefig(f\"{plot_dir}/fraud_distribution.png\")\n",
    "plt.clf()"
   ]
  },
  {
   "cell_type": "code",
   "execution_count": null,
   "id": "1062da1a",
   "metadata": {},
   "outputs": [
    {
     "name": "stdout",
     "output_type": "stream",
     "text": [
      "\n",
      "🔹 Fraud Rate: 0.20%\n"
     ]
    }
   ],
   "source": [
    "# Check for class imbalance\n",
    "fraud_rate = df['FraudResult'].mean()\n",
    "print(f\"\\n Fraud Rate: {fraud_rate:.2%}\")"
   ]
  },
  {
   "cell_type": "code",
   "execution_count": null,
   "id": "a526f4b4",
   "metadata": {},
   "outputs": [
    {
     "data": {
      "text/plain": [
       "<Figure size 640x480 with 0 Axes>"
      ]
     },
     "metadata": {},
     "output_type": "display_data"
    }
   ],
   "source": [
    "# Convert date column\n",
    "df['TransactionStartTime'] = pd.to_datetime(df['TransactionStartTime'])\n",
    "\n",
    "#  Time-based analysis\n",
    "df['Hour'] = df['TransactionStartTime'].dt.hour\n",
    "sns.histplot(data=df, x='Hour', bins=24, kde=False)\n",
    "plt.title('Transaction Hour Distribution')\n",
    "plt.xlabel('Hour of Day')\n",
    "plt.savefig(f\"{plot_dir}/hour_distribution.png\")\n",
    "plt.clf()"
   ]
  },
  {
   "cell_type": "code",
   "execution_count": null,
   "id": "7074b571",
   "metadata": {},
   "outputs": [
    {
     "data": {
      "text/plain": [
       "<Figure size 1000x500 with 0 Axes>"
      ]
     },
     "metadata": {},
     "output_type": "display_data"
    },
    {
     "data": {
      "text/plain": [
       "<Figure size 1000x500 with 0 Axes>"
      ]
     },
     "metadata": {},
     "output_type": "display_data"
    }
   ],
   "source": [
    "#  Transaction amount distribution\n",
    "plt.figure(figsize=(10, 5))\n",
    "sns.histplot(df['Amount'], bins=100, kde=True)\n",
    "plt.title('Transaction Amount Distribution')\n",
    "plt.savefig(f\"{plot_dir}/amount_distribution.png\")\n",
    "plt.clf()\n",
    "\n",
    "#  Compare transaction amount by fraud\n",
    "plt.figure(figsize=(10, 5))\n",
    "sns.boxplot(data=df, x='FraudResult', y='Amount')\n",
    "plt.title('Transaction Amount by Fraud Result')\n",
    "plt.savefig(f\"{plot_dir}/amount_by_fraud.png\")\n",
    "plt.clf()\n"
   ]
  },
  {
   "cell_type": "code",
   "execution_count": null,
   "id": "62ea8918",
   "metadata": {},
   "outputs": [
    {
     "data": {
      "text/plain": [
       "<Figure size 1000x400 with 0 Axes>"
      ]
     },
     "metadata": {},
     "output_type": "display_data"
    },
    {
     "data": {
      "text/plain": [
       "<Figure size 1000x400 with 0 Axes>"
      ]
     },
     "metadata": {},
     "output_type": "display_data"
    },
    {
     "data": {
      "text/plain": [
       "<Figure size 1000x400 with 0 Axes>"
      ]
     },
     "metadata": {},
     "output_type": "display_data"
    },
    {
     "data": {
      "text/plain": [
       "<Figure size 1000x400 with 0 Axes>"
      ]
     },
     "metadata": {},
     "output_type": "display_data"
    },
    {
     "data": {
      "text/plain": [
       "<Figure size 1000x400 with 0 Axes>"
      ]
     },
     "metadata": {},
     "output_type": "display_data"
    }
   ],
   "source": [
    "#  Categorical variable fraud rate\n",
    "categorical_cols = ['ProductCategory', 'ChannelId', 'PricingStrategy', 'CountryCode', 'CurrencyCode']\n",
    "\n",
    "for col in categorical_cols:\n",
    "    plt.figure(figsize=(10, 4))\n",
    "    sns.barplot(data=df, x=col, y='FraudResult', estimator=np.mean)\n",
    "    plt.title(f\"Fraud Rate by {col}\")\n",
    "    plt.xticks(rotation=45)\n",
    "    plt.tight_layout()\n",
    "    plt.savefig(f\"{plot_dir}/fraud_by_{col}.png\")\n",
    "    plt.clf()\n"
   ]
  },
  {
   "cell_type": "code",
   "execution_count": 10,
   "id": "fb746311",
   "metadata": {},
   "outputs": [
    {
     "name": "stdout",
     "output_type": "stream",
     "text": [
      "\n",
      "🔹 Summary Statistics:\n",
      "       CountryCode        Amount         Value  PricingStrategy   FraudResult  \\\n",
      "count      95662.0  9.566200e+04  9.566200e+04     95662.000000  95662.000000   \n",
      "mean         256.0  6.717846e+03  9.900584e+03         2.255974      0.002018   \n",
      "std            0.0  1.233068e+05  1.231221e+05         0.732924      0.044872   \n",
      "min          256.0 -1.000000e+06  2.000000e+00         0.000000      0.000000   \n",
      "25%          256.0 -5.000000e+01  2.750000e+02         2.000000      0.000000   \n",
      "50%          256.0  1.000000e+03  1.000000e+03         2.000000      0.000000   \n",
      "75%          256.0  2.800000e+03  5.000000e+03         2.000000      0.000000   \n",
      "max          256.0  9.880000e+06  9.880000e+06         4.000000      1.000000   \n",
      "\n",
      "               Hour  \n",
      "count  95662.000000  \n",
      "mean      12.447722  \n",
      "std        4.846964  \n",
      "min        0.000000  \n",
      "25%        8.000000  \n",
      "50%       13.000000  \n",
      "75%       17.000000  \n",
      "max       23.000000  \n"
     ]
    },
    {
     "data": {
      "text/plain": [
       "<Figure size 1000x600 with 0 Axes>"
      ]
     },
     "metadata": {},
     "output_type": "display_data"
    }
   ],
   "source": [
    "# Correlation heatmap\n",
    "numeric_cols = df.select_dtypes(include=np.number).columns\n",
    "plt.figure(figsize=(10, 6))\n",
    "sns.heatmap(df[numeric_cols].corr(), annot=True, fmt=\".2f\", cmap=\"coolwarm\")\n",
    "plt.title(\"Correlation Heatmap\")\n",
    "plt.tight_layout()\n",
    "plt.savefig(f\"{plot_dir}/correlation_heatmap.png\")\n",
    "plt.clf()\n",
    "\n",
    "# 🔹 Summary statistics\n",
    "print(\"\\n🔹 Summary Statistics:\")\n",
    "print(df.describe())\n",
    "\n",
    "# (Optional) Save cleaned version\n",
    "# df.to_csv(\"processed/cleaned_data.csv\", index=False)"
   ]
  }
 ],
 "metadata": {
  "kernelspec": {
   "display_name": "venv",
   "language": "python",
   "name": "python3"
  },
  "language_info": {
   "codemirror_mode": {
    "name": "ipython",
    "version": 3
   },
   "file_extension": ".py",
   "mimetype": "text/x-python",
   "name": "python",
   "nbconvert_exporter": "python",
   "pygments_lexer": "ipython3",
   "version": "3.13.3"
  }
 },
 "nbformat": 4,
 "nbformat_minor": 5
}
